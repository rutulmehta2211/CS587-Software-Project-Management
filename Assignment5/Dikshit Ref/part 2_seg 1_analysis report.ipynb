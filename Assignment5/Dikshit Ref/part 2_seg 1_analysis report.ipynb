{
 "cells": [
  {
   "cell_type": "code",
   "execution_count": 1,
   "metadata": {},
   "outputs": [],
   "source": [
    "import datetime\n",
    "import os\n",
    "from datetime import date\n",
    "import dateutil.relativedelta\n",
    "\n",
    "import pandas as pd                                    # panda's nickname is pd\n",
    "\n",
    "import numpy as np                                     # numpy as np\n",
    "\n",
    "from pandas import DataFrame, Series                   # for convenience\n",
    "\n",
    "import matplotlib.pyplot as plt\n",
    "\n",
    "%matplotlib inline\n",
    "\n",
    "import pandas as pd"
   ]
  },
  {
   "cell_type": "code",
   "execution_count": 2,
   "metadata": {},
   "outputs": [],
   "source": [
    "A=pd.read_csv(\"issues.csv\")\n"
   ]
  },
  {
   "cell_type": "code",
   "execution_count": 3,
   "metadata": {},
   "outputs": [
    {
     "name": "stderr",
     "output_type": "stream",
     "text": [
      "C:\\Users\\mukti\\anaconda3\\envs\\py37\\lib\\site-packages\\ipykernel_launcher.py:4: SettingWithCopyWarning: \n",
      "A value is trying to be set on a copy of a slice from a DataFrame.\n",
      "Try using .loc[row_indexer,col_indexer] = value instead\n",
      "\n",
      "See the caveats in the documentation: https://pandas.pydata.org/pandas-docs/stable/user_guide/indexing.html#returning-a-view-versus-a-copy\n",
      "  after removing the cwd from sys.path.\n"
     ]
    }
   ],
   "source": [
    "#Q1 : Are there any useful patterns of outliers in the dataset?\n",
    "\n",
    "df = A[['created_at','issue_number']]\n",
    "df['created_at'] = pd.to_datetime(df['created_at'])\n",
    "df.index = df['created_at']"
   ]
  },
  {
   "cell_type": "code",
   "execution_count": 4,
   "metadata": {},
   "outputs": [],
   "source": [
    "B = df.resample('W').count()\n"
   ]
  },
  {
   "cell_type": "code",
   "execution_count": 5,
   "metadata": {},
   "outputs": [
    {
     "data": {
      "text/plain": [
       "2000"
      ]
     },
     "execution_count": 5,
     "metadata": {},
     "output_type": "execute_result"
    }
   ],
   "source": [
    "issueclosed = B['issue_number'].sum()\n",
    "issueclosed"
   ]
  },
  {
   "cell_type": "code",
   "execution_count": 6,
   "metadata": {},
   "outputs": [
    {
     "data": {
      "text/plain": [
       "42.5531914893617"
      ]
     },
     "execution_count": 6,
     "metadata": {},
     "output_type": "execute_result"
    }
   ],
   "source": [
    "avgissueclosed = issueclosed/47\n",
    "avgissueclosed"
   ]
  },
  {
   "cell_type": "code",
   "execution_count": 7,
   "metadata": {},
   "outputs": [
    {
     "data": {
      "text/plain": [
       "55.625646504284404"
      ]
     },
     "execution_count": 7,
     "metadata": {},
     "output_type": "execute_result"
    }
   ],
   "source": [
    "stddevclosed = B['issue_number'].std()\n",
    "stddevclosed"
   ]
  },
  {
   "cell_type": "code",
   "execution_count": 8,
   "metadata": {},
   "outputs": [],
   "source": [
    "Rbar=B[\"issue_number\"].sum()/39  ## mean value of range of each lot \n",
    "UCL_R= 2.114*Rbar                   ## upper control limit of range\n",
    "LCL_R= 0*Rbar           "
   ]
  },
  {
   "cell_type": "code",
   "execution_count": 9,
   "metadata": {},
   "outputs": [],
   "source": [
    "B.insert(2,'Rbar',Rbar)\n",
    "B.insert(3,'UCL_R',UCL_R)\n",
    "B.insert(4,'LCL_R',LCL_R)"
   ]
  },
  {
   "cell_type": "code",
   "execution_count": 10,
   "metadata": {},
   "outputs": [
    {
     "data": {
      "text/plain": [
       "<AxesSubplot:xlabel='created_at'>"
      ]
     },
     "execution_count": 10,
     "metadata": {},
     "output_type": "execute_result"
    },
    {
     "data": {
      "image/png": "[encoded data removed]",
      "text/plain": [
       "<Figure size 432x288 with 1 Axes>"
      ]
     },
     "metadata": {
      "needs_background": "light"
     },
     "output_type": "display_data"
    }
   ],
   "source": [
    "B[\"issue_number\"].plot(marker=\"o\")\n",
    "B[\"UCL_R\"].plot(color='b')\n",
    "B[\"LCL_R\"].plot(color='y')\n",
    "B[\"Rbar\"].plot(color='r')\n",
    "\n",
    "# Ans 1 part 1"
   ]
  },
  {
   "cell_type": "code",
   "execution_count": 11,
   "metadata": {},
   "outputs": [],
   "source": [
    "A=pd.read_csv(\"issues.csv\")"
   ]
  },
  {
   "cell_type": "code",
   "execution_count": 12,
   "metadata": {},
   "outputs": [
    {
     "name": "stderr",
     "output_type": "stream",
     "text": [
      "C:\\Users\\mukti\\anaconda3\\envs\\py37\\lib\\site-packages\\ipykernel_launcher.py:2: SettingWithCopyWarning: \n",
      "A value is trying to be set on a copy of a slice from a DataFrame.\n",
      "Try using .loc[row_indexer,col_indexer] = value instead\n",
      "\n",
      "See the caveats in the documentation: https://pandas.pydata.org/pandas-docs/stable/user_guide/indexing.html#returning-a-view-versus-a-copy\n",
      "  \n"
     ]
    }
   ],
   "source": [
    "df = A[['closed_at','issue_number']]\n",
    "df['closed_at'] = pd.to_datetime(df['closed_at'])\n",
    "df.index = df['closed_at']\n"
   ]
  },
  {
   "cell_type": "code",
   "execution_count": 13,
   "metadata": {},
   "outputs": [],
   "source": [
    "B = df.resample('W').count()\n"
   ]
  },
  {
   "cell_type": "code",
   "execution_count": 14,
   "metadata": {},
   "outputs": [],
   "source": [
    "Rbar1=B[\"issue_number\"].sum()/47  ## mean value of range of each lot \n",
    "UCL_R= 2.114*Rbar                   ## upper control limit of range\n",
    "LCL_R= 0*Rbar     "
   ]
  },
  {
   "cell_type": "code",
   "execution_count": 15,
   "metadata": {},
   "outputs": [],
   "source": [
    "B.insert(2,'Rbar1',Rbar1)\n",
    "B.insert(3,'UCL_R1',UCL_R)\n",
    "B.insert(4,'LCL_R1',LCL_R)"
   ]
  },
  {
   "cell_type": "code",
   "execution_count": 16,
   "metadata": {},
   "outputs": [
    {
     "data": {
      "text/plain": [
       "<AxesSubplot:xlabel='closed_at'>"
      ]
     },
     "execution_count": 16,
     "metadata": {},
     "output_type": "execute_result"
    },
    {
     "data": {
      "image/png": "[encoded data removed]",
      "text/plain": [
       "<Figure size 432x288 with 1 Axes>"
      ]
     },
     "metadata": {
      "needs_background": "light"
     },
     "output_type": "display_data"
    }
   ],
   "source": [
    "B[\"issue_number\"].plot(marker=\"o\")\n",
    "B[\"UCL_R1\"].plot(color='b')\n",
    "B[\"LCL_R1\"].plot(color='y')\n",
    "B[\"Rbar1\"].plot(color='r')\n",
    "\n",
    "# ans 1 part 2"
   ]
  },
  {
   "cell_type": "code",
   "execution_count": 17,
   "metadata": {},
   "outputs": [
    {
     "data": {
      "text/plain": [
       "996"
      ]
     },
     "execution_count": 17,
     "metadata": {},
     "output_type": "execute_result"
    }
   ],
   "source": [
    "# Q2 : What are the UCL (Upper Control Limit) and LCL (Lower Control Limit) for certain issue metrics?\n",
    "issueclosed = B['issue_number'].sum()\n",
    "issueclosed"
   ]
  },
  {
   "cell_type": "code",
   "execution_count": 18,
   "metadata": {},
   "outputs": [
    {
     "data": {
      "text/plain": [
       "21.19148936170213"
      ]
     },
     "execution_count": 18,
     "metadata": {},
     "output_type": "execute_result"
    }
   ],
   "source": [
    "avgissueclosed = issueclosed/47\n",
    "avgissueclosed"
   ]
  },
  {
   "cell_type": "code",
   "execution_count": 19,
   "metadata": {},
   "outputs": [
    {
     "data": {
      "text/plain": [
       "28.82000987981632"
      ]
     },
     "execution_count": 19,
     "metadata": {},
     "output_type": "execute_result"
    }
   ],
   "source": [
    "stddevclosed = B['issue_number'].std()\n",
    "stddevclosed"
   ]
  },
  {
   "cell_type": "code",
   "execution_count": 20,
   "metadata": {},
   "outputs": [],
   "source": [
    "# Q3 : 3. Can the outliers detect hidden problems in the given dataset?\n",
    "\n",
    "df=pd.read_csv(\"issues.csv\")\n"
   ]
  },
  {
   "cell_type": "code",
   "execution_count": 21,
   "metadata": {},
   "outputs": [],
   "source": [
    "df['closed_at'] = pd.to_datetime(df['closed_at'])\n",
    "df['created_at'] = pd.to_datetime(df['created_at'])"
   ]
  },
  {
   "cell_type": "code",
   "execution_count": 22,
   "metadata": {},
   "outputs": [],
   "source": [
    "\n",
    "df['days'] = df['closed_at'] - df['created_at']\n",
    "\n",
    "df1 = df.dropna()\n"
   ]
  },
  {
   "cell_type": "code",
   "execution_count": 23,
   "metadata": {},
   "outputs": [
    {
     "data": {
      "text/plain": [
       "2        9\n",
       "3        9\n",
       "6        9\n",
       "7        9\n",
       "10      19\n",
       "        ..\n",
       "1989    17\n",
       "1990    17\n",
       "1993    13\n",
       "1994    13\n",
       "1995    59\n",
       "Name: days, Length: 996, dtype: int64"
      ]
     },
     "execution_count": 23,
     "metadata": {},
     "output_type": "execute_result"
    }
   ],
   "source": [
    "dfq3 = df1[['issue_number','days']]\n",
    "dfq3['days'].dt.days"
   ]
  },
  {
   "cell_type": "code",
   "execution_count": 24,
   "metadata": {},
   "outputs": [
    {
     "data": {
      "text/plain": [
       "issue_number              int64\n",
       "days            timedelta64[ns]\n",
       "dtype: object"
      ]
     },
     "execution_count": 24,
     "metadata": {},
     "output_type": "execute_result"
    }
   ],
   "source": [
    "dfq3.dtypes\n"
   ]
  },
  {
   "cell_type": "code",
   "execution_count": 25,
   "metadata": {},
   "outputs": [
    {
     "data": {
      "text/plain": [
       "Timedelta('19 days 19:41:12.289156626')"
      ]
     },
     "execution_count": 25,
     "metadata": {},
     "output_type": "execute_result"
    }
   ],
   "source": [
    "avgof = dfq3['days'].sum()\n",
    "avgofdays = avgof/996\n",
    "avgofdays"
   ]
  },
  {
   "cell_type": "code",
   "execution_count": 26,
   "metadata": {},
   "outputs": [
    {
     "data": {
      "text/plain": [
       "<BarContainer object of 996 artists>"
      ]
     },
     "execution_count": 26,
     "metadata": {},
     "output_type": "execute_result"
    },
    {
     "data": {
      "image/png": "[encoded data removed]",
      "text/plain": [
       "<Figure size 432x288 with 1 Axes>"
      ]
     },
     "metadata": {
      "needs_background": "light"
     },
     "output_type": "display_data"
    }
   ],
   "source": [
    "x = dfq3['issue_number']\n",
    "y = dfq3['days'].dt.days\n",
    "plt.bar(x,y)"
   ]
  },
  {
   "cell_type": "code",
   "execution_count": 27,
   "metadata": {},
   "outputs": [
    {
     "data": {
      "text/plain": [
       "<matplotlib.collections.PathCollection at 0x160e6110548>"
      ]
     },
     "execution_count": 27,
     "metadata": {},
     "output_type": "execute_result"
    },
    {
     "data": {
      "image/png": "[encoded data removed]",
      "text/plain": [
       "<Figure size 432x288 with 1 Axes>"
      ]
     },
     "metadata": {
      "needs_background": "light"
     },
     "output_type": "display_data"
    }
   ],
   "source": [
    "plt.scatter(x, y, s=None, c=None, marker=None, cmap=None, norm=None, vmin=None, vmax=None, alpha=None, linewidths=None)"
   ]
  },
  {
   "cell_type": "code",
   "execution_count": 28,
   "metadata": {},
   "outputs": [],
   "source": [
    "dfq4t = df[['Author','days','issue_number','created_at']]\n",
    "dfq4 = dfq4t\n"
   ]
  },
  {
   "cell_type": "code",
   "execution_count": 29,
   "metadata": {},
   "outputs": [
    {
     "data": {
      "text/plain": [
       "<BarContainer object of 2000 artists>"
      ]
     },
     "execution_count": 29,
     "metadata": {},
     "output_type": "execute_result"
    },
    {
     "data": {
      "image/png": "[encoded data removed]",
      "text/plain": [
       "<Figure size 432x288 with 1 Axes>"
      ]
     },
     "metadata": {
      "needs_background": "light"
     },
     "output_type": "display_data"
    }
   ],
   "source": [
    "xq4 = dfq4['Author']\n",
    "yq4 = dfq4['days'].dt.days\n",
    "\n",
    "plt.bar(xq4,yq4)"
   ]
  },
  {
   "cell_type": "code",
   "execution_count": 30,
   "metadata": {
    "scrolled": true
   },
   "outputs": [
    {
     "data": {
      "image/png": "[encoded data removed]",
      "text/plain": [
       "<Figure size 432x288 with 1 Axes>"
      ]
     },
     "metadata": {
      "needs_background": "light"
     },
     "output_type": "display_data"
    }
   ],
   "source": [
    "#Q4 . What is the correlation between outliers and hidden problems in the given dataset?\n",
    "\n",
    "issuesbyday = dfq4.groupby(['Author','created_at']).issue_number.count().head(100)\n",
    "\n",
    "dateLabelsFig = issuesbyday.unstack().plot(kind='bar',stacked=False,  color=['red', 'yellow', 'blue', 'purple', 'green'], grid=True)"
   ]
  },
  {
   "cell_type": "code",
   "execution_count": 31,
   "metadata": {
    "scrolled": true
   },
   "outputs": [
    {
     "data": {
      "image/png": "[encoded data removed]",
      "text/plain": [
       "<Figure size 864x864 with 1 Axes>"
      ]
     },
     "metadata": {
      "needs_background": "light"
     },
     "output_type": "display_data"
    }
   ],
   "source": [
    "# Q5 How to detect if there is problem hidden in the given dataset? - explained in pdf file\n",
    "\n",
    "#Q6 How to detect if certain engineer deliberately creates issues with Priority Critical?\n",
    "\n",
    "\n",
    "q5df = df[df.Priority.eq('Critical')]\n",
    "\n",
    "LabelsReviewedByDate = df.groupby(['Author','Priority']).created_at.count()\n",
    "\n",
    "dateLabelsFig = LabelsReviewedByDate.unstack().plot(kind='bar',stacked=True,  color=['red','blue','yellow','green','orange'], fontsize=14, figsize=(12,12),grid=False)"
   ]
  },
  {
   "cell_type": "code",
   "execution_count": 32,
   "metadata": {},
   "outputs": [
    {
     "data": {
      "image/png": "[encoded data removed]",
      "text/plain": [
       "<Figure size 432x432 with 1 Axes>"
      ]
     },
     "metadata": {
      "needs_background": "light"
     },
     "output_type": "display_data"
    }
   ],
   "source": [
    "# Q7. How to detect if certain origination phase causes majority of the in progress Critical-Bug issues?\n",
    "\n",
    "q6df = df[df.Priority.eq('Critical')]\n",
    "\n",
    "LabelsReviewedByDate = df.groupby(['OriginationPhase','Priority']).created_at.count()\n",
    "\n",
    "dateLabelsFig = LabelsReviewedByDate.unstack().plot(kind='bar',stacked=True,  color=['red','blue','yellow','green','orange'], fontsize=14, figsize=(6,6),grid=False)"
   ]
  },
  {
   "cell_type": "code",
   "execution_count": 33,
   "metadata": {},
   "outputs": [
    {
     "data": {
      "image/png": "[encoded data removed]",
      "text/plain": [
       "<Figure size 432x432 with 1 Axes>"
      ]
     },
     "metadata": {
      "needs_background": "light"
     },
     "output_type": "display_data"
    }
   ],
   "source": [
    "# Q8. Can you chart the patterns of outliers in the dataset? - answered in the pdf file\n",
    "\n",
    "# Q9 Can you create the right pivot stacked bar chart? - answered in the pdf file\n",
    "\n",
    "# Q10  How to group multi-levels? Group by Origination phase or Category for example\n",
    "\n",
    "LabelsReviewedByDate = df.groupby(['Category','OriginationPhase']).created_at.count()\n",
    "\n",
    "dateLabelsFig = LabelsReviewedByDate.unstack().plot(kind='bar',stacked=True,  color=['red','blue','yellow','green','orange'], fontsize=14, figsize=(6,6),grid=False)"
   ]
  },
  {
   "cell_type": "code",
   "execution_count": 34,
   "metadata": {},
   "outputs": [
    {
     "data": {
      "image/png": "[encoded data removed]",
      "text/plain": [
       "<Figure size 432x432 with 1 Axes>"
      ]
     },
     "metadata": {
      "needs_background": "light"
     },
     "output_type": "display_data"
    }
   ],
   "source": [
    "# Q11. How many Levels of indexing? Should the Priority be displayed in a pivotchart of DetectionPhase for example - answered in pdf file\n",
    "\n",
    "# Q12 What is the avg number of issues opened per DetectionPhase?\n",
    "\n",
    "LabelsReviewedByDate = df.groupby(['DetectionPhase','OriginationPhase']).created_at.count()\n",
    "\n",
    "dateLabelsFig = LabelsReviewedByDate.unstack().plot(kind='bar',stacked=True,  color=['red','blue','yellow','green','orange'], fontsize=14, figsize=(6,6),grid=False)"
   ]
  },
  {
   "cell_type": "code",
   "execution_count": 35,
   "metadata": {},
   "outputs": [
    {
     "data": {
      "image/png": "[encoded data removed]",
      "text/plain": [
       "<Figure size 432x432 with 1 Axes>"
      ]
     },
     "metadata": {
      "needs_background": "light"
     },
     "output_type": "display_data"
    }
   ],
   "source": [
    "# Q13. What is the avg turn around time per issue (time from the day the issue created till it got closed)? \n",
    "\n",
    "noissuetesting = df[df.OriginationPhase.eq('Testing')]\n",
    "noissuetesting\n",
    "\n",
    "LabelsReviewedByDate = df.groupby(['OriginationPhase','Priority']).days.count()\n",
    "\n",
    "dateLabelsFig = LabelsReviewedByDate.unstack().plot(kind='bar',stacked=True, figsize=(6,6) ,color=['red','blue','yellow','green','orange'], fontsize=14,grid=False)"
   ]
  },
  {
   "cell_type": "code",
   "execution_count": 36,
   "metadata": {},
   "outputs": [
    {
     "data": {
      "image/png": "[encoded data removed]",
      "text/plain": [
       "<Figure size 864x864 with 1 Axes>"
      ]
     },
     "metadata": {
      "needs_background": "light"
     },
     "output_type": "display_data"
    }
   ],
   "source": [
    "# Q14. What is the avg number of rejected issues opened per engineer?\n",
    "\n",
    "noissuetesting = df[df.Status.eq('Rejected')]\n",
    "\n",
    "LabelsReviewedByDate = noissuetesting.groupby(['Author','Priority']).created_at.count()\n",
    "\n",
    "dateLabelsFig = LabelsReviewedByDate.unstack().plot(kind='bar',stacked=True, figsize=(12,12) ,color=['red','blue','yellow','green','orange'], fontsize=14,grid=False)"
   ]
  },
  {
   "cell_type": "code",
   "execution_count": 37,
   "metadata": {},
   "outputs": [
    {
     "data": {
      "text/plain": [
       "1.0147058823529411"
      ]
     },
     "execution_count": 37,
     "metadata": {},
     "output_type": "execute_result"
    }
   ],
   "source": [
    "forcoding = df[df.OriginationPhase.eq('Coding')].count()\n",
    "nodayscoding = forcoding['days']\n",
    "noissuecoding = forcoding['issue_number']\n",
    "avgdayscoding = noissuecoding/ nodayscoding\n",
    "avgdayscoding"
   ]
  },
  {
   "cell_type": "code",
   "execution_count": 38,
   "metadata": {},
   "outputs": [
    {
     "data": {
      "text/plain": [
       "6.293478260869565"
      ]
     },
     "execution_count": 38,
     "metadata": {},
     "output_type": "execute_result"
    }
   ],
   "source": [
    "fordesign = df[df.OriginationPhase.eq('Design')].count()\n",
    "nodaysdesign = fordesign['days']\n",
    "noissuedesign = fordesign['issue_number']\n",
    "avgdaysdesign = noissuedesign / nodaysdesign\n",
    "avgdaysdesign"
   ]
  },
  {
   "cell_type": "code",
   "execution_count": 39,
   "metadata": {},
   "outputs": [
    {
     "data": {
      "text/plain": [
       "7.0576923076923075"
      ]
     },
     "execution_count": 39,
     "metadata": {},
     "output_type": "execute_result"
    }
   ],
   "source": [
    "fordoc = df[df.OriginationPhase.eq('Documentation')].count()\n",
    "nodaysdoc = fordoc['days']\n",
    "noissuedoc = fordoc['issue_number']\n",
    "avgdaysdoc = noissuedoc / nodaysdoc\n",
    "avgdaysdoc"
   ]
  },
  {
   "cell_type": "code",
   "execution_count": 40,
   "metadata": {},
   "outputs": [
    {
     "data": {
      "text/plain": [
       "1.634453781512605"
      ]
     },
     "execution_count": 40,
     "metadata": {},
     "output_type": "execute_result"
    }
   ],
   "source": [
    "forreq = df[df.OriginationPhase.eq('Requirements')].count()\n",
    "nodaysreq = forreq['days']\n",
    "noissuereq = forreq['issue_number']\n",
    "avgdaysreq = noissuereq / nodaysreq\n",
    "avgdaysreq"
   ]
  },
  {
   "cell_type": "code",
   "execution_count": 41,
   "metadata": {},
   "outputs": [
    {
     "data": {
      "text/plain": [
       "1.1170731707317074"
      ]
     },
     "execution_count": 41,
     "metadata": {},
     "output_type": "execute_result"
    }
   ],
   "source": [
    "fortesting = df[df.OriginationPhase.eq('Testing')].count()\n",
    "nodaystesting = fortesting['days']\n",
    "noissuetesting = fortesting['issue_number']\n",
    "avgdaystesting = noissuetesting / nodaystesting\n",
    "avgdaystesting"
   ]
  },
  {
   "cell_type": "code",
   "execution_count": 42,
   "metadata": {},
   "outputs": [],
   "source": [
    "dfra = df[df.Status.eq('Rejected')]\n"
   ]
  },
  {
   "cell_type": "code",
   "execution_count": 43,
   "metadata": {
    "scrolled": true
   },
   "outputs": [
    {
     "data": {
      "image/png": "[encoded data removed]",
      "text/plain": [
       "<Figure size 432x432 with 1 Axes>"
      ]
     },
     "metadata": {
      "needs_background": "light"
     },
     "output_type": "display_data"
    }
   ],
   "source": [
    "# 14. What is the avg number of rejected issues opened per engineer?\n",
    "\n",
    "LabelsReviewedByDate = dfra.groupby(['Author','Priority']).created_at.count()\n",
    "\n",
    "dateLabelsFig = LabelsReviewedByDate.unstack().plot(kind='bar',stacked=True,  color=['red','blue','yellow','green','orange'], fontsize=14, figsize=(6,6),grid=False)"
   ]
  },
  {
   "cell_type": "code",
   "execution_count": 44,
   "metadata": {},
   "outputs": [
    {
     "data": {
      "text/plain": [
       "3.9193548387096775"
      ]
     },
     "execution_count": 44,
     "metadata": {},
     "output_type": "execute_result"
    }
   ],
   "source": [
    "dfra = df[df.Status.eq('Rejected')].count()\n",
    "dfa = df.Author.value_counts()\n",
    "authordfa = len(dfa)\n",
    "rejectedissue = dfra['issue_number']\n",
    "avgrejissueperauthor = rejectedissue / authordfa\n",
    "avgrejissueperauthor\n"
   ]
  },
  {
   "cell_type": "code",
   "execution_count": 45,
   "metadata": {},
   "outputs": [
    {
     "data": {
      "text/plain": [
       "3.467741935483871"
      ]
     },
     "execution_count": 45,
     "metadata": {},
     "output_type": "execute_result"
    }
   ],
   "source": [
    "# Q15 What is the avg number of critical issues opened per engineer?\n",
    "\n",
    "dfra = df[df.Priority.eq('Critical')].count()\n",
    "dfa = df.Author.value_counts()\n",
    "authordfa = len(dfa)\n",
    "rejectedissue = dfra['issue_number']\n",
    "avgrejissueperauthor = rejectedissue / authordfa\n",
    "avgrejissueperauthor"
   ]
  },
  {
   "cell_type": "code",
   "execution_count": 46,
   "metadata": {},
   "outputs": [
    {
     "data": {
      "text/plain": [
       "1.1170731707317074"
      ]
     },
     "execution_count": 46,
     "metadata": {},
     "output_type": "execute_result"
    }
   ],
   "source": [
    "#Q16 What is the avg number of rejected issues per Origination Phase?\n",
    "\n",
    "fortesting = df[df.OriginationPhase.eq('Testing')].count()\n",
    "nodaystesting = fortesting['days']\n",
    "noissuetesting = fortesting['issue_number']\n",
    "avgdaystesting = noissuetesting / nodaystesting\n",
    "avgdaystesting"
   ]
  },
  {
   "cell_type": "code",
   "execution_count": 47,
   "metadata": {},
   "outputs": [
    {
     "data": {
      "text/plain": [
       "243"
      ]
     },
     "execution_count": 47,
     "metadata": {},
     "output_type": "execute_result"
    }
   ],
   "source": [
    "dfra1 = df[df.Status.eq('Rejected')]\n",
    "dfra = df[df.Status.eq('Rejected')].count()\n",
    "rejectedissue = dfra['issue_number']\n",
    "rejectedissue\n"
   ]
  },
  {
   "cell_type": "code",
   "execution_count": 48,
   "metadata": {},
   "outputs": [
    {
     "data": {
      "text/plain": [
       "issue_number        21\n",
       "OriginationPhase    21\n",
       "DetectionPhase      21\n",
       "Category            21\n",
       "Priority            21\n",
       "Status              21\n",
       "created_at          21\n",
       "closed_at           14\n",
       "Author              21\n",
       "days                14\n",
       "dtype: int64"
      ]
     },
     "execution_count": 48,
     "metadata": {},
     "output_type": "execute_result"
    }
   ],
   "source": [
    "# Q17 What is the avg number of critical issues per Origination Phase?\n",
    "\n",
    "fortesting = dfra1[dfra1.OriginationPhase.eq('Documentation')].count()\n",
    "fortesting"
   ]
  },
  {
   "cell_type": "code",
   "execution_count": 49,
   "metadata": {},
   "outputs": [
    {
     "data": {
      "text/plain": [
       "215"
      ]
     },
     "execution_count": 49,
     "metadata": {},
     "output_type": "execute_result"
    }
   ],
   "source": [
    "dfra2 = df[df.Priority.eq('Critical')]\n",
    "dfra = df[df.Priority.eq('Critical')].count()\n",
    "rejectedissue = dfra['issue_number']\n",
    "rejectedissue\n"
   ]
  },
  {
   "cell_type": "code",
   "execution_count": 50,
   "metadata": {},
   "outputs": [
    {
     "data": {
      "text/plain": [
       "issue_number        0\n",
       "OriginationPhase    0\n",
       "DetectionPhase      0\n",
       "Category            0\n",
       "Priority            0\n",
       "Status              0\n",
       "created_at          0\n",
       "closed_at           0\n",
       "Author              0\n",
       "days                0\n",
       "dtype: int64"
      ]
     },
     "execution_count": 50,
     "metadata": {},
     "output_type": "execute_result"
    }
   ],
   "source": [
    "#Q18 What is the avg number of created issues per Origination Phase? - answered in pdf\n",
    "\n",
    "#Q19 What is the avg number of rejected critical issues per Origination Phase?\n",
    "\n",
    "fortesting = dfra2[dfra2.OriginationPhase.eq('Testing')].count()\n",
    "fortesting"
   ]
  },
  {
   "cell_type": "code",
   "execution_count": 51,
   "metadata": {},
   "outputs": [
    {
     "data": {
      "text/html": [
       "<div>\n",
       "<style scoped>\n",
       "    .dataframe tbody tr th:only-of-type {\n",
       "        vertical-align: middle;\n",
       "    }\n",
       "\n",
       "    .dataframe tbody tr th {\n",
       "        vertical-align: top;\n",
       "    }\n",
       "\n",
       "    .dataframe thead th {\n",
       "        text-align: right;\n",
       "    }\n",
       "</style>\n",
       "<table border=\"1\" class=\"dataframe\">\n",
       "  <thead>\n",
       "    <tr style=\"text-align: right;\">\n",
       "      <th></th>\n",
       "      <th>issue_number</th>\n",
       "      <th>OriginationPhase</th>\n",
       "      <th>DetectionPhase</th>\n",
       "      <th>Category</th>\n",
       "      <th>Priority</th>\n",
       "      <th>Status</th>\n",
       "      <th>created_at</th>\n",
       "      <th>closed_at</th>\n",
       "      <th>Author</th>\n",
       "      <th>days</th>\n",
       "    </tr>\n",
       "  </thead>\n",
       "  <tbody>\n",
       "    <tr>\n",
       "      <th>0</th>\n",
       "      <td>1</td>\n",
       "      <td>Requirements</td>\n",
       "      <td>Coding</td>\n",
       "      <td>Bug</td>\n",
       "      <td>Critical</td>\n",
       "      <td>Approved</td>\n",
       "      <td>2017-02-24</td>\n",
       "      <td>NaT</td>\n",
       "      <td>Smith</td>\n",
       "      <td>NaT</td>\n",
       "    </tr>\n",
       "    <tr>\n",
       "      <th>8</th>\n",
       "      <td>9</td>\n",
       "      <td>Design</td>\n",
       "      <td>Testing</td>\n",
       "      <td>Inquiry</td>\n",
       "      <td>Critical</td>\n",
       "      <td>Approved</td>\n",
       "      <td>2017-03-04</td>\n",
       "      <td>NaT</td>\n",
       "      <td>David</td>\n",
       "      <td>NaT</td>\n",
       "    </tr>\n",
       "    <tr>\n",
       "      <th>18</th>\n",
       "      <td>19</td>\n",
       "      <td>Design</td>\n",
       "      <td>Testing</td>\n",
       "      <td>Inquiry</td>\n",
       "      <td>Critical</td>\n",
       "      <td>Approved</td>\n",
       "      <td>2017-03-06</td>\n",
       "      <td>NaT</td>\n",
       "      <td>Smith</td>\n",
       "      <td>NaT</td>\n",
       "    </tr>\n",
       "    <tr>\n",
       "      <th>27</th>\n",
       "      <td>28</td>\n",
       "      <td>Design</td>\n",
       "      <td>Testing</td>\n",
       "      <td>Inquiry</td>\n",
       "      <td>Critical</td>\n",
       "      <td>Approved</td>\n",
       "      <td>2017-08-15</td>\n",
       "      <td>NaT</td>\n",
       "      <td>David</td>\n",
       "      <td>NaT</td>\n",
       "    </tr>\n",
       "    <tr>\n",
       "      <th>38</th>\n",
       "      <td>39</td>\n",
       "      <td>Design</td>\n",
       "      <td>Testing</td>\n",
       "      <td>Inquiry</td>\n",
       "      <td>Critical</td>\n",
       "      <td>Approved</td>\n",
       "      <td>2017-03-06</td>\n",
       "      <td>NaT</td>\n",
       "      <td>Roy</td>\n",
       "      <td>NaT</td>\n",
       "    </tr>\n",
       "    <tr>\n",
       "      <th>...</th>\n",
       "      <td>...</td>\n",
       "      <td>...</td>\n",
       "      <td>...</td>\n",
       "      <td>...</td>\n",
       "      <td>...</td>\n",
       "      <td>...</td>\n",
       "      <td>...</td>\n",
       "      <td>...</td>\n",
       "      <td>...</td>\n",
       "      <td>...</td>\n",
       "    </tr>\n",
       "    <tr>\n",
       "      <th>1918</th>\n",
       "      <td>1919</td>\n",
       "      <td>Design</td>\n",
       "      <td>Testing</td>\n",
       "      <td>Bug</td>\n",
       "      <td>Critical</td>\n",
       "      <td>Approved</td>\n",
       "      <td>2017-11-15</td>\n",
       "      <td>NaT</td>\n",
       "      <td>David</td>\n",
       "      <td>NaT</td>\n",
       "    </tr>\n",
       "    <tr>\n",
       "      <th>1954</th>\n",
       "      <td>1955</td>\n",
       "      <td>Design</td>\n",
       "      <td>Testing</td>\n",
       "      <td>Inquiry</td>\n",
       "      <td>Critical</td>\n",
       "      <td>Approved</td>\n",
       "      <td>2017-12-15</td>\n",
       "      <td>NaT</td>\n",
       "      <td>David</td>\n",
       "      <td>NaT</td>\n",
       "    </tr>\n",
       "    <tr>\n",
       "      <th>1973</th>\n",
       "      <td>1974</td>\n",
       "      <td>Design</td>\n",
       "      <td>Testing</td>\n",
       "      <td>Inquiry</td>\n",
       "      <td>Critical</td>\n",
       "      <td>Approved</td>\n",
       "      <td>2017-12-15</td>\n",
       "      <td>NaT</td>\n",
       "      <td>David</td>\n",
       "      <td>NaT</td>\n",
       "    </tr>\n",
       "    <tr>\n",
       "      <th>1975</th>\n",
       "      <td>1976</td>\n",
       "      <td>Design</td>\n",
       "      <td>Testing</td>\n",
       "      <td>Inquiry</td>\n",
       "      <td>Critical</td>\n",
       "      <td>Approved</td>\n",
       "      <td>2017-10-19</td>\n",
       "      <td>NaT</td>\n",
       "      <td>Ryan</td>\n",
       "      <td>NaT</td>\n",
       "    </tr>\n",
       "    <tr>\n",
       "      <th>1987</th>\n",
       "      <td>1988</td>\n",
       "      <td>Design</td>\n",
       "      <td>Testing</td>\n",
       "      <td>Inquiry</td>\n",
       "      <td>Critical</td>\n",
       "      <td>Approved</td>\n",
       "      <td>2017-05-06</td>\n",
       "      <td>NaT</td>\n",
       "      <td>David</td>\n",
       "      <td>NaT</td>\n",
       "    </tr>\n",
       "  </tbody>\n",
       "</table>\n",
       "<p>215 rows × 10 columns</p>\n",
       "</div>"
      ],
      "text/plain": [
       "      issue_number OriginationPhase DetectionPhase Category  Priority  \\\n",
       "0                1     Requirements         Coding      Bug  Critical   \n",
       "8                9           Design        Testing  Inquiry  Critical   \n",
       "18              19           Design        Testing  Inquiry  Critical   \n",
       "27              28           Design        Testing  Inquiry  Critical   \n",
       "38              39           Design        Testing  Inquiry  Critical   \n",
       "...            ...              ...            ...      ...       ...   \n",
       "1918          1919           Design        Testing      Bug  Critical   \n",
       "1954          1955           Design        Testing  Inquiry  Critical   \n",
       "1973          1974           Design        Testing  Inquiry  Critical   \n",
       "1975          1976           Design        Testing  Inquiry  Critical   \n",
       "1987          1988           Design        Testing  Inquiry  Critical   \n",
       "\n",
       "        Status created_at closed_at Author days  \n",
       "0     Approved 2017-02-24       NaT  Smith  NaT  \n",
       "8     Approved 2017-03-04       NaT  David  NaT  \n",
       "18    Approved 2017-03-06       NaT  Smith  NaT  \n",
       "27    Approved 2017-08-15       NaT  David  NaT  \n",
       "38    Approved 2017-03-06       NaT    Roy  NaT  \n",
       "...        ...        ...       ...    ...  ...  \n",
       "1918  Approved 2017-11-15       NaT  David  NaT  \n",
       "1954  Approved 2017-12-15       NaT  David  NaT  \n",
       "1973  Approved 2017-12-15       NaT  David  NaT  \n",
       "1975  Approved 2017-10-19       NaT   Ryan  NaT  \n",
       "1987  Approved 2017-05-06       NaT  David  NaT  \n",
       "\n",
       "[215 rows x 10 columns]"
      ]
     },
     "execution_count": 51,
     "metadata": {},
     "output_type": "execute_result"
    }
   ],
   "source": [
    "# Q20. What is the ratio of total number of critical to medium issues per Origination Phase?\n",
    "\n",
    "dfra3 = df[df.Priority.eq('Critical')]\n",
    "dfra3\n"
   ]
  },
  {
   "cell_type": "code",
   "execution_count": 52,
   "metadata": {},
   "outputs": [
    {
     "data": {
      "text/html": [
       "<div>\n",
       "<style scoped>\n",
       "    .dataframe tbody tr th:only-of-type {\n",
       "        vertical-align: middle;\n",
       "    }\n",
       "\n",
       "    .dataframe tbody tr th {\n",
       "        vertical-align: top;\n",
       "    }\n",
       "\n",
       "    .dataframe thead th {\n",
       "        text-align: right;\n",
       "    }\n",
       "</style>\n",
       "<table border=\"1\" class=\"dataframe\">\n",
       "  <thead>\n",
       "    <tr style=\"text-align: right;\">\n",
       "      <th></th>\n",
       "      <th>issue_number</th>\n",
       "      <th>OriginationPhase</th>\n",
       "      <th>DetectionPhase</th>\n",
       "      <th>Category</th>\n",
       "      <th>Priority</th>\n",
       "      <th>Status</th>\n",
       "      <th>created_at</th>\n",
       "      <th>closed_at</th>\n",
       "      <th>Author</th>\n",
       "      <th>days</th>\n",
       "    </tr>\n",
       "  </thead>\n",
       "  <tbody>\n",
       "  </tbody>\n",
       "</table>\n",
       "</div>"
      ],
      "text/plain": [
       "Empty DataFrame\n",
       "Columns: [issue_number, OriginationPhase, DetectionPhase, Category, Priority, Status, created_at, closed_at, Author, days]\n",
       "Index: []"
      ]
     },
     "execution_count": 52,
     "metadata": {},
     "output_type": "execute_result"
    }
   ],
   "source": [
    "dfra4 = dfra3[dfra3.Status.eq('Rejected')]\n",
    "dfra4"
   ]
  },
  {
   "cell_type": "code",
   "execution_count": 53,
   "metadata": {},
   "outputs": [
    {
     "data": {
      "text/plain": [
       "issue_number        0\n",
       "OriginationPhase    0\n",
       "DetectionPhase      0\n",
       "Category            0\n",
       "Priority            0\n",
       "Status              0\n",
       "created_at          0\n",
       "closed_at           0\n",
       "Author              0\n",
       "days                0\n",
       "dtype: int64"
      ]
     },
     "execution_count": 53,
     "metadata": {},
     "output_type": "execute_result"
    }
   ],
   "source": [
    "df5 = df[df.Priority.eq('Critical')]\n",
    "df6 = df[df.Priority.eq('Medium')]\n",
    "dfopc = df5[df5.OriginationPhase.eq('Testing')].count()\n",
    "dfopm = df6[df6.OriginationPhase.eq('Testing')].count()\n",
    "dfopc"
   ]
  },
  {
   "cell_type": "code",
   "execution_count": 54,
   "metadata": {},
   "outputs": [
    {
     "data": {
      "text/plain": [
       "issue_number        454\n",
       "OriginationPhase    454\n",
       "DetectionPhase      454\n",
       "Category            454\n",
       "Priority            454\n",
       "Status              454\n",
       "created_at          454\n",
       "closed_at           406\n",
       "Author              454\n",
       "days                406\n",
       "dtype: int64"
      ]
     },
     "execution_count": 54,
     "metadata": {},
     "output_type": "execute_result"
    }
   ],
   "source": [
    "dfopm"
   ]
  },
  {
   "cell_type": "code",
   "execution_count": 55,
   "metadata": {},
   "outputs": [],
   "source": [
    "df = pd.read_csv(\"issues.csv\")\n"
   ]
  },
  {
   "cell_type": "code",
   "execution_count": 56,
   "metadata": {},
   "outputs": [],
   "source": [
    "# Q21. Which month got the maximum number of Critical issues created?\n",
    "\n",
    "A = df[df.Priority.eq('Critical')]\n"
   ]
  },
  {
   "cell_type": "code",
   "execution_count": 57,
   "metadata": {},
   "outputs": [
    {
     "name": "stderr",
     "output_type": "stream",
     "text": [
      "C:\\Users\\mukti\\anaconda3\\envs\\py37\\lib\\site-packages\\ipykernel_launcher.py:4: SettingWithCopyWarning: \n",
      "A value is trying to be set on a copy of a slice from a DataFrame.\n",
      "Try using .loc[row_indexer,col_indexer] = value instead\n",
      "\n",
      "See the caveats in the documentation: https://pandas.pydata.org/pandas-docs/stable/user_guide/indexing.html#returning-a-view-versus-a-copy\n",
      "  after removing the cwd from sys.path.\n"
     ]
    },
    {
     "data": {
      "text/html": [
       "<div>\n",
       "<style scoped>\n",
       "    .dataframe tbody tr th:only-of-type {\n",
       "        vertical-align: middle;\n",
       "    }\n",
       "\n",
       "    .dataframe tbody tr th {\n",
       "        vertical-align: top;\n",
       "    }\n",
       "\n",
       "    .dataframe thead th {\n",
       "        text-align: right;\n",
       "    }\n",
       "</style>\n",
       "<table border=\"1\" class=\"dataframe\">\n",
       "  <thead>\n",
       "    <tr style=\"text-align: right;\">\n",
       "      <th></th>\n",
       "      <th>created_at</th>\n",
       "      <th>issue_number</th>\n",
       "    </tr>\n",
       "  </thead>\n",
       "  <tbody>\n",
       "    <tr>\n",
       "      <th>0</th>\n",
       "      <td>2017-02-24</td>\n",
       "      <td>1</td>\n",
       "    </tr>\n",
       "    <tr>\n",
       "      <th>8</th>\n",
       "      <td>2017-03-04</td>\n",
       "      <td>9</td>\n",
       "    </tr>\n",
       "    <tr>\n",
       "      <th>18</th>\n",
       "      <td>2017-03-06</td>\n",
       "      <td>19</td>\n",
       "    </tr>\n",
       "    <tr>\n",
       "      <th>27</th>\n",
       "      <td>2017-08-15</td>\n",
       "      <td>28</td>\n",
       "    </tr>\n",
       "    <tr>\n",
       "      <th>38</th>\n",
       "      <td>2017-03-06</td>\n",
       "      <td>39</td>\n",
       "    </tr>\n",
       "    <tr>\n",
       "      <th>...</th>\n",
       "      <td>...</td>\n",
       "      <td>...</td>\n",
       "    </tr>\n",
       "    <tr>\n",
       "      <th>1918</th>\n",
       "      <td>2017-11-15</td>\n",
       "      <td>1919</td>\n",
       "    </tr>\n",
       "    <tr>\n",
       "      <th>1954</th>\n",
       "      <td>2017-12-15</td>\n",
       "      <td>1955</td>\n",
       "    </tr>\n",
       "    <tr>\n",
       "      <th>1973</th>\n",
       "      <td>2017-12-15</td>\n",
       "      <td>1974</td>\n",
       "    </tr>\n",
       "    <tr>\n",
       "      <th>1975</th>\n",
       "      <td>2017-10-19</td>\n",
       "      <td>1976</td>\n",
       "    </tr>\n",
       "    <tr>\n",
       "      <th>1987</th>\n",
       "      <td>2017-05-06</td>\n",
       "      <td>1988</td>\n",
       "    </tr>\n",
       "  </tbody>\n",
       "</table>\n",
       "<p>215 rows × 2 columns</p>\n",
       "</div>"
      ],
      "text/plain": [
       "     created_at  issue_number\n",
       "0    2017-02-24             1\n",
       "8    2017-03-04             9\n",
       "18   2017-03-06            19\n",
       "27   2017-08-15            28\n",
       "38   2017-03-06            39\n",
       "...         ...           ...\n",
       "1918 2017-11-15          1919\n",
       "1954 2017-12-15          1955\n",
       "1973 2017-12-15          1974\n",
       "1975 2017-10-19          1976\n",
       "1987 2017-05-06          1988\n",
       "\n",
       "[215 rows x 2 columns]"
      ]
     },
     "execution_count": 57,
     "metadata": {},
     "output_type": "execute_result"
    }
   ],
   "source": [
    "A = df[df.Priority.eq('Critical')]\n",
    "dfmax = A[['created_at','issue_number']]\n",
    "\n",
    "dfmax['created_at'] = pd.to_datetime(dfmax['created_at'])\n",
    "dfmax\n",
    "# df.index = df['created_at']"
   ]
  },
  {
   "cell_type": "code",
   "execution_count": 58,
   "metadata": {},
   "outputs": [
    {
     "data": {
      "text/plain": [
       "created_at\n",
       "September     3\n",
       "April         4\n",
       "July          5\n",
       "December      7\n",
       "February      8\n",
       "October      10\n",
       "June         12\n",
       "January      13\n",
       "May          17\n",
       "November     18\n",
       "August       30\n",
       "March        88\n",
       "Name: issue_number, dtype: int64"
      ]
     },
     "execution_count": 58,
     "metadata": {},
     "output_type": "execute_result"
    }
   ],
   "source": [
    "dfmax.groupby(dfmax['created_at'].dt.strftime('%B'))['issue_number'].count().sort_values()\n",
    "\n"
   ]
  },
  {
   "cell_type": "code",
   "execution_count": 59,
   "metadata": {},
   "outputs": [],
   "source": [
    "#df['created_at'] = pd.to_datetime(df['created_at']) - pd.to_timedelta(7, unit='d')\n",
    "#df.groupby([pd.Grouper(key='created_at', freq='W-MON')])['issue_number'].count().reset_index().sort_values('issue_number')"
   ]
  },
  {
   "cell_type": "code",
   "execution_count": 60,
   "metadata": {},
   "outputs": [],
   "source": [
    "# Q22. Which week got the minimum number of issues created?\n",
    "\n",
    "df = df[['created_at','issue_number']]\n",
    "df['created_at'] = pd.to_datetime(df['created_at'])\n",
    "df.index = df['created_at']"
   ]
  },
  {
   "cell_type": "code",
   "execution_count": 61,
   "metadata": {},
   "outputs": [
    {
     "data": {
      "text/html": [
       "<div>\n",
       "<style scoped>\n",
       "    .dataframe tbody tr th:only-of-type {\n",
       "        vertical-align: middle;\n",
       "    }\n",
       "\n",
       "    .dataframe tbody tr th {\n",
       "        vertical-align: top;\n",
       "    }\n",
       "\n",
       "    .dataframe thead th {\n",
       "        text-align: right;\n",
       "    }\n",
       "</style>\n",
       "<table border=\"1\" class=\"dataframe\">\n",
       "  <thead>\n",
       "    <tr style=\"text-align: right;\">\n",
       "      <th></th>\n",
       "      <th>created_at</th>\n",
       "      <th>issue_number</th>\n",
       "    </tr>\n",
       "    <tr>\n",
       "      <th>created_at</th>\n",
       "      <th></th>\n",
       "      <th></th>\n",
       "    </tr>\n",
       "  </thead>\n",
       "  <tbody>\n",
       "    <tr>\n",
       "      <th>2017-04-30</th>\n",
       "      <td>0</td>\n",
       "      <td>0</td>\n",
       "    </tr>\n",
       "    <tr>\n",
       "      <th>2017-06-04</th>\n",
       "      <td>0</td>\n",
       "      <td>0</td>\n",
       "    </tr>\n",
       "    <tr>\n",
       "      <th>2017-04-02</th>\n",
       "      <td>0</td>\n",
       "      <td>0</td>\n",
       "    </tr>\n",
       "    <tr>\n",
       "      <th>2017-01-29</th>\n",
       "      <td>0</td>\n",
       "      <td>0</td>\n",
       "    </tr>\n",
       "    <tr>\n",
       "      <th>2017-02-05</th>\n",
       "      <td>0</td>\n",
       "      <td>0</td>\n",
       "    </tr>\n",
       "    <tr>\n",
       "      <th>2017-09-10</th>\n",
       "      <td>0</td>\n",
       "      <td>0</td>\n",
       "    </tr>\n",
       "    <tr>\n",
       "      <th>2017-07-30</th>\n",
       "      <td>2</td>\n",
       "      <td>2</td>\n",
       "    </tr>\n",
       "    <tr>\n",
       "      <th>2017-09-17</th>\n",
       "      <td>6</td>\n",
       "      <td>6</td>\n",
       "    </tr>\n",
       "    <tr>\n",
       "      <th>2017-03-26</th>\n",
       "      <td>7</td>\n",
       "      <td>7</td>\n",
       "    </tr>\n",
       "    <tr>\n",
       "      <th>2017-06-25</th>\n",
       "      <td>7</td>\n",
       "      <td>7</td>\n",
       "    </tr>\n",
       "    <tr>\n",
       "      <th>2017-09-24</th>\n",
       "      <td>7</td>\n",
       "      <td>7</td>\n",
       "    </tr>\n",
       "    <tr>\n",
       "      <th>2017-07-02</th>\n",
       "      <td>7</td>\n",
       "      <td>7</td>\n",
       "    </tr>\n",
       "    <tr>\n",
       "      <th>2017-10-01</th>\n",
       "      <td>8</td>\n",
       "      <td>8</td>\n",
       "    </tr>\n",
       "    <tr>\n",
       "      <th>2017-10-29</th>\n",
       "      <td>9</td>\n",
       "      <td>9</td>\n",
       "    </tr>\n",
       "    <tr>\n",
       "      <th>2017-10-08</th>\n",
       "      <td>10</td>\n",
       "      <td>10</td>\n",
       "    </tr>\n",
       "    <tr>\n",
       "      <th>2017-12-03</th>\n",
       "      <td>11</td>\n",
       "      <td>11</td>\n",
       "    </tr>\n",
       "    <tr>\n",
       "      <th>2017-04-23</th>\n",
       "      <td>12</td>\n",
       "      <td>12</td>\n",
       "    </tr>\n",
       "    <tr>\n",
       "      <th>2017-12-24</th>\n",
       "      <td>13</td>\n",
       "      <td>13</td>\n",
       "    </tr>\n",
       "    <tr>\n",
       "      <th>2017-04-09</th>\n",
       "      <td>14</td>\n",
       "      <td>14</td>\n",
       "    </tr>\n",
       "    <tr>\n",
       "      <th>2017-07-09</th>\n",
       "      <td>14</td>\n",
       "      <td>14</td>\n",
       "    </tr>\n",
       "    <tr>\n",
       "      <th>2017-11-05</th>\n",
       "      <td>15</td>\n",
       "      <td>15</td>\n",
       "    </tr>\n",
       "    <tr>\n",
       "      <th>2017-05-07</th>\n",
       "      <td>15</td>\n",
       "      <td>15</td>\n",
       "    </tr>\n",
       "    <tr>\n",
       "      <th>2017-09-03</th>\n",
       "      <td>17</td>\n",
       "      <td>17</td>\n",
       "    </tr>\n",
       "    <tr>\n",
       "      <th>2017-02-12</th>\n",
       "      <td>23</td>\n",
       "      <td>23</td>\n",
       "    </tr>\n",
       "    <tr>\n",
       "      <th>2017-07-16</th>\n",
       "      <td>23</td>\n",
       "      <td>23</td>\n",
       "    </tr>\n",
       "    <tr>\n",
       "      <th>2017-12-10</th>\n",
       "      <td>25</td>\n",
       "      <td>25</td>\n",
       "    </tr>\n",
       "    <tr>\n",
       "      <th>2017-02-26</th>\n",
       "      <td>27</td>\n",
       "      <td>27</td>\n",
       "    </tr>\n",
       "    <tr>\n",
       "      <th>2017-12-17</th>\n",
       "      <td>30</td>\n",
       "      <td>30</td>\n",
       "    </tr>\n",
       "    <tr>\n",
       "      <th>2017-05-28</th>\n",
       "      <td>31</td>\n",
       "      <td>31</td>\n",
       "    </tr>\n",
       "    <tr>\n",
       "      <th>2017-06-18</th>\n",
       "      <td>31</td>\n",
       "      <td>31</td>\n",
       "    </tr>\n",
       "    <tr>\n",
       "      <th>2017-01-08</th>\n",
       "      <td>32</td>\n",
       "      <td>32</td>\n",
       "    </tr>\n",
       "    <tr>\n",
       "      <th>2017-11-12</th>\n",
       "      <td>38</td>\n",
       "      <td>38</td>\n",
       "    </tr>\n",
       "    <tr>\n",
       "      <th>2017-02-19</th>\n",
       "      <td>40</td>\n",
       "      <td>40</td>\n",
       "    </tr>\n",
       "    <tr>\n",
       "      <th>2017-08-06</th>\n",
       "      <td>41</td>\n",
       "      <td>41</td>\n",
       "    </tr>\n",
       "    <tr>\n",
       "      <th>2017-10-22</th>\n",
       "      <td>43</td>\n",
       "      <td>43</td>\n",
       "    </tr>\n",
       "    <tr>\n",
       "      <th>2017-10-15</th>\n",
       "      <td>44</td>\n",
       "      <td>44</td>\n",
       "    </tr>\n",
       "    <tr>\n",
       "      <th>2017-11-26</th>\n",
       "      <td>46</td>\n",
       "      <td>46</td>\n",
       "    </tr>\n",
       "    <tr>\n",
       "      <th>2017-01-22</th>\n",
       "      <td>46</td>\n",
       "      <td>46</td>\n",
       "    </tr>\n",
       "    <tr>\n",
       "      <th>2017-05-14</th>\n",
       "      <td>50</td>\n",
       "      <td>50</td>\n",
       "    </tr>\n",
       "    <tr>\n",
       "      <th>2017-01-15</th>\n",
       "      <td>53</td>\n",
       "      <td>53</td>\n",
       "    </tr>\n",
       "    <tr>\n",
       "      <th>2017-08-27</th>\n",
       "      <td>54</td>\n",
       "      <td>54</td>\n",
       "    </tr>\n",
       "    <tr>\n",
       "      <th>2017-11-19</th>\n",
       "      <td>58</td>\n",
       "      <td>58</td>\n",
       "    </tr>\n",
       "    <tr>\n",
       "      <th>2017-08-20</th>\n",
       "      <td>58</td>\n",
       "      <td>58</td>\n",
       "    </tr>\n",
       "    <tr>\n",
       "      <th>2017-08-13</th>\n",
       "      <td>58</td>\n",
       "      <td>58</td>\n",
       "    </tr>\n",
       "    <tr>\n",
       "      <th>2017-07-23</th>\n",
       "      <td>61</td>\n",
       "      <td>61</td>\n",
       "    </tr>\n",
       "    <tr>\n",
       "      <th>2017-05-21</th>\n",
       "      <td>67</td>\n",
       "      <td>67</td>\n",
       "    </tr>\n",
       "    <tr>\n",
       "      <th>2017-03-19</th>\n",
       "      <td>83</td>\n",
       "      <td>83</td>\n",
       "    </tr>\n",
       "    <tr>\n",
       "      <th>2017-06-11</th>\n",
       "      <td>86</td>\n",
       "      <td>86</td>\n",
       "    </tr>\n",
       "    <tr>\n",
       "      <th>2017-04-16</th>\n",
       "      <td>124</td>\n",
       "      <td>124</td>\n",
       "    </tr>\n",
       "    <tr>\n",
       "      <th>2017-03-12</th>\n",
       "      <td>242</td>\n",
       "      <td>242</td>\n",
       "    </tr>\n",
       "    <tr>\n",
       "      <th>2017-03-05</th>\n",
       "      <td>312</td>\n",
       "      <td>312</td>\n",
       "    </tr>\n",
       "  </tbody>\n",
       "</table>\n",
       "</div>"
      ],
      "text/plain": [
       "            created_at  issue_number\n",
       "created_at                          \n",
       "2017-04-30           0             0\n",
       "2017-06-04           0             0\n",
       "2017-04-02           0             0\n",
       "2017-01-29           0             0\n",
       "2017-02-05           0             0\n",
       "2017-09-10           0             0\n",
       "2017-07-30           2             2\n",
       "2017-09-17           6             6\n",
       "2017-03-26           7             7\n",
       "2017-06-25           7             7\n",
       "2017-09-24           7             7\n",
       "2017-07-02           7             7\n",
       "2017-10-01           8             8\n",
       "2017-10-29           9             9\n",
       "2017-10-08          10            10\n",
       "2017-12-03          11            11\n",
       "2017-04-23          12            12\n",
       "2017-12-24          13            13\n",
       "2017-04-09          14            14\n",
       "2017-07-09          14            14\n",
       "2017-11-05          15            15\n",
       "2017-05-07          15            15\n",
       "2017-09-03          17            17\n",
       "2017-02-12          23            23\n",
       "2017-07-16          23            23\n",
       "2017-12-10          25            25\n",
       "2017-02-26          27            27\n",
       "2017-12-17          30            30\n",
       "2017-05-28          31            31\n",
       "2017-06-18          31            31\n",
       "2017-01-08          32            32\n",
       "2017-11-12          38            38\n",
       "2017-02-19          40            40\n",
       "2017-08-06          41            41\n",
       "2017-10-22          43            43\n",
       "2017-10-15          44            44\n",
       "2017-11-26          46            46\n",
       "2017-01-22          46            46\n",
       "2017-05-14          50            50\n",
       "2017-01-15          53            53\n",
       "2017-08-27          54            54\n",
       "2017-11-19          58            58\n",
       "2017-08-20          58            58\n",
       "2017-08-13          58            58\n",
       "2017-07-23          61            61\n",
       "2017-05-21          67            67\n",
       "2017-03-19          83            83\n",
       "2017-06-11          86            86\n",
       "2017-04-16         124           124\n",
       "2017-03-12         242           242\n",
       "2017-03-05         312           312"
      ]
     },
     "execution_count": 61,
     "metadata": {},
     "output_type": "execute_result"
    }
   ],
   "source": [
    "B = df.resample('W').count()\n",
    "\n",
    "B.sort_values(by=['issue_number'])\n",
    "\n"
   ]
  },
  {
   "cell_type": "code",
   "execution_count": null,
   "metadata": {},
   "outputs": [],
   "source": []
  }
 ],
 "metadata": {
  "kernelspec": {
   "display_name": "Python 3",
   "language": "python",
   "name": "python3"
  },
  "language_info": {
   "codemirror_mode": {
    "name": "ipython",
    "version": 3
   },
   "file_extension": ".py",
   "mimetype": "text/x-python",
   "name": "python",
   "nbconvert_exporter": "python",
   "pygments_lexer": "ipython3",
   "version": "3.8.3"
  }
 },
 "nbformat": 4,
 "nbformat_minor": 4
}
